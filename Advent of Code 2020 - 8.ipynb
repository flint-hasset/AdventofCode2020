{
 "cells": [
  {
   "cell_type": "code",
   "execution_count": 1,
   "metadata": {},
   "outputs": [],
   "source": [
    "import pandas as pd\n",
    "import numpy as np"
   ]
  },
  {
   "cell_type": "code",
   "execution_count": 2,
   "metadata": {},
   "outputs": [],
   "source": [
    "with open(r'C:\\Users\\stefa\\OneDrive\\Documents\\Python Scripts\\Problem 8 Input.txt') as f:\n",
    "    lines = f.read().split('\\n')"
   ]
  },
  {
   "cell_type": "markdown",
   "metadata": {},
   "source": [
    "## Part 1"
   ]
  },
  {
   "cell_type": "code",
   "execution_count": 33,
   "metadata": {},
   "outputs": [],
   "source": [
    "def parse_line(line):\n",
    "    action = line.split(\" \")[0]\n",
    "    distance = int(line.split(\" \")[1])\n",
    "    return action, distance\n",
    "        "
   ]
  },
  {
   "cell_type": "code",
   "execution_count": 59,
   "metadata": {},
   "outputs": [
    {
     "data": {
      "text/plain": [
       "1614"
      ]
     },
     "execution_count": 59,
     "metadata": {},
     "output_type": "execute_result"
    }
   ],
   "source": [
    "position = 0 \n",
    "pos_list = []\n",
    "accum = 0\n",
    "\n",
    "while position not in pos_list:\n",
    "    action, distance = parse_line(lines[position])\n",
    "    pos_list.append(position)\n",
    "    if action == 'acc':\n",
    "        position += 1\n",
    "        accum += distance\n",
    "    if action == 'nop':\n",
    "        position += 1\n",
    "    if action == 'jmp':\n",
    "        position += distance\n",
    "accum"
   ]
  },
  {
   "cell_type": "markdown",
   "metadata": {},
   "source": [
    "## Part 2"
   ]
  },
  {
   "cell_type": "code",
   "execution_count": 58,
   "metadata": {},
   "outputs": [
    {
     "name": "stdout",
     "output_type": "stream",
     "text": [
      "1260\n"
     ]
    }
   ],
   "source": [
    "for x in range(len(lines)):\n",
    "    position = 0 \n",
    "    pos_list = []\n",
    "    accum = 0\n",
    "    while position not in pos_list:\n",
    "        action, distance = parse_line(lines[position])\n",
    "        if position == x:\n",
    "            if action == 'jmp':\n",
    "                new_action = 'nop'\n",
    "            elif action == 'nop':\n",
    "                new_action = 'jmp'    \n",
    "            else:\n",
    "                new_action = action\n",
    "        else:\n",
    "            new_action = action\n",
    "            \n",
    "        pos_list.append(position)\n",
    "\n",
    "        if new_action == 'acc':\n",
    "            position += 1\n",
    "            accum += distance\n",
    "        if new_action == 'nop':\n",
    "            position += 1\n",
    "        if new_action == 'jmp':\n",
    "            position += distance\n",
    "        if position == len(lines)-1:\n",
    "            print(accum)\n",
    "            break\n",
    "    #print(accum, position)\n",
    "            \n"
   ]
  },
  {
   "cell_type": "code",
   "execution_count": null,
   "metadata": {},
   "outputs": [],
   "source": []
  }
 ],
 "metadata": {
  "kernelspec": {
   "display_name": "Python 3",
   "language": "python",
   "name": "python3"
  },
  "language_info": {
   "codemirror_mode": {
    "name": "ipython",
    "version": 3
   },
   "file_extension": ".py",
   "mimetype": "text/x-python",
   "name": "python",
   "nbconvert_exporter": "python",
   "pygments_lexer": "ipython3",
   "version": "3.7.6"
  }
 },
 "nbformat": 4,
 "nbformat_minor": 4
}
