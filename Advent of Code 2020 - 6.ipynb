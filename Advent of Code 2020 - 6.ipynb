{
 "cells": [
  {
   "cell_type": "code",
   "execution_count": 1,
   "metadata": {},
   "outputs": [],
   "source": [
    "import pandas as pd\n",
    "import numpy as np"
   ]
  },
  {
   "cell_type": "code",
   "execution_count": 79,
   "metadata": {},
   "outputs": [],
   "source": [
    "file = open(r'C:\\Users\\stefa\\OneDrive\\Documents\\Python Scripts\\Problem 6 Input.txt','r')\n",
    "customs = []\n",
    "for line in file:\n",
    "    stripped_line = line.strip()\n",
    "    customs.append(stripped_line)\n",
    "file.close()\n",
    "customs.append('')"
   ]
  },
  {
   "cell_type": "markdown",
   "metadata": {},
   "source": [
    "## Part 1"
   ]
  },
  {
   "cell_type": "code",
   "execution_count": 92,
   "metadata": {},
   "outputs": [
    {
     "data": {
      "text/plain": [
       "6534"
      ]
     },
     "execution_count": 92,
     "metadata": {},
     "output_type": "execute_result"
    }
   ],
   "source": [
    "total_score = 0\n",
    "group_list = []\n",
    "\n",
    "for line in customs:\n",
    "    if line == \"\":\n",
    "        total_score = total_score + len((set(group_list)))\n",
    "        group_list = []\n",
    "    else:    \n",
    "        for char in line:\n",
    "            group_list.append(char)\n",
    "total_score"
   ]
  },
  {
   "cell_type": "markdown",
   "metadata": {},
   "source": [
    "## Part 2"
   ]
  },
  {
   "cell_type": "code",
   "execution_count": 91,
   "metadata": {},
   "outputs": [
    {
     "data": {
      "text/plain": [
       "3402"
      ]
     },
     "execution_count": 91,
     "metadata": {},
     "output_type": "execute_result"
    }
   ],
   "source": [
    "total_score = 0\n",
    "lines = 0 \n",
    "\n",
    "for line in customs:\n",
    "    line_count += 1\n",
    "    if line == \"\":\n",
    "        total_score = total_score + len((set(group_set)))\n",
    "        group_set = {}\n",
    "        lines = 0\n",
    "    else:    \n",
    "        if lines == 0: \n",
    "            group_set = set([x for x in line])\n",
    "        else:\n",
    "            group_set = set(group_set).intersection(set([x for x in line]))\n",
    "        lines += 1\n",
    "            \n",
    "total_score"
   ]
  }
 ],
 "metadata": {
  "kernelspec": {
   "display_name": "Python 3",
   "language": "python",
   "name": "python3"
  },
  "language_info": {
   "codemirror_mode": {
    "name": "ipython",
    "version": 3
   },
   "file_extension": ".py",
   "mimetype": "text/x-python",
   "name": "python",
   "nbconvert_exporter": "python",
   "pygments_lexer": "ipython3",
   "version": "3.7.6"
  }
 },
 "nbformat": 4,
 "nbformat_minor": 4
}
