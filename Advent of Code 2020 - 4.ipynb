{
 "cells": [
  {
   "cell_type": "code",
   "execution_count": 1,
   "metadata": {},
   "outputs": [],
   "source": [
    "import pandas as pd\n",
    "import numpy as np"
   ]
  },
  {
   "cell_type": "code",
   "execution_count": 3,
   "metadata": {},
   "outputs": [],
   "source": [
    "file = open(r'C:\\Users\\stefa\\OneDrive\\Documents\\Python Scripts\\Problem 4 Input.txt','r')\n",
    "passports = []\n",
    "for line in file:\n",
    "    stripped_line = line.strip()\n",
    "    line_list = stripped_line.split()\n",
    "    passports.append(stripped_line)\n",
    "\n",
    "file.close()\n",
    "\n"
   ]
  },
  {
   "cell_type": "markdown",
   "metadata": {},
   "source": [
    "## Part 1"
   ]
  },
  {
   "cell_type": "code",
   "execution_count": 5,
   "metadata": {},
   "outputs": [],
   "source": [
    "req_list = ['byr','iyr','eyr','hgt','hcl','ecl','pid']\n"
   ]
  },
  {
   "cell_type": "code",
   "execution_count": 29,
   "metadata": {},
   "outputs": [
    {
     "data": {
      "text/plain": [
       "1138"
      ]
     },
     "execution_count": 29,
     "metadata": {},
     "output_type": "execute_result"
    }
   ],
   "source": [
    "len(passports)"
   ]
  },
  {
   "cell_type": "code",
   "execution_count": 40,
   "metadata": {},
   "outputs": [
    {
     "name": "stdout",
     "output_type": "stream",
     "text": [
      "256 284\n"
     ]
    }
   ],
   "source": [
    "valid = 0 \n",
    "\n",
    "byr = 0\n",
    "iyr = 0\n",
    "eyr = 0\n",
    "hgt = 0\n",
    "ecl = 0\n",
    "hcl = 0\n",
    "pid = 0\n",
    "passport_count = 0\n",
    "\n",
    "for line in passports:\n",
    "    \n",
    "    if 'byr' in line:\n",
    "        byr = 1\n",
    "    if 'iyr' in line:\n",
    "        iyr = 1\n",
    "    if 'eyr' in line:\n",
    "        eyr = 1\n",
    "    if 'hgt' in line:\n",
    "        hgt = 1\n",
    "    if 'ecl' in line:\n",
    "        ecl = 1\n",
    "    if 'pid' in line:\n",
    "        pid = 1\n",
    "    if 'hcl' in line:\n",
    "        hcl = 1\n",
    "        \n",
    "    if line == \"\":\n",
    "        passport_count += 1\n",
    "        if byr*iyr*eyr*hgt*ecl*pid*hcl == 1:\n",
    "            valid = valid + 1\n",
    "        byr, iyr, eyr, hgt, ecl, pid, hcl = 0,0,0,0,0,0,0\n",
    "        \n",
    "print(valid,passport_count)\n"
   ]
  },
  {
   "cell_type": "markdown",
   "metadata": {},
   "source": [
    "## Part 2"
   ]
  },
  {
   "cell_type": "markdown",
   "metadata": {},
   "source": [
    "- byr (Birth Year) - four digits; at least 1920 and at most 2002.\n",
    "- iyr (Issue Year) - four digits; at least 2010 and at most 2020.\n",
    "- eyr (Expiration Year) - four digits; at least 2020 and at most 2030.\n",
    "- hgt (Height) - a number followed by either cm or in:\n",
    "- If cm, the number must be at least 150 and at most 193.\n",
    "- If in, the number must be at least 59 and at most 76.\n",
    "- hcl (Hair Color) - a # followed by exactly six characters 0-9 or a-f.\n",
    "- ecl (Eye Color) - exactly one of: amb blu brn gry grn hzl oth.\n",
    "- pid (Passport ID) - a nine-digit number, including leading zeroes.\n",
    "- cid (Country ID) - ignored, missing or not."
   ]
  },
  {
   "cell_type": "code",
   "execution_count": 100,
   "metadata": {},
   "outputs": [],
   "source": [
    "### Below is the worst code I've ever written. But it worked. "
   ]
  },
  {
   "cell_type": "code",
   "execution_count": 97,
   "metadata": {},
   "outputs": [],
   "source": [
    "def check_hcl(hcl):\n",
    "    hcl = str(hcl)\n",
    "    valid = 1\n",
    "    char_list = ['0','1','2','3','4','5','6','7','8','9','a','b','c','d','e','f']\n",
    "    if hcl[0] == '#':\n",
    "        for char in hcl[1:]:\n",
    "            if char not in char_list:\n",
    "                print(char)\n",
    "                valid = valid * 0\n",
    "    if len(hcl) != 7:\n",
    "        valid = 0 \n",
    "    return valid\n",
    "\n",
    "        "
   ]
  },
  {
   "cell_type": "code",
   "execution_count": 99,
   "metadata": {},
   "outputs": [
    {
     "data": {
      "text/plain": [
       "198"
      ]
     },
     "execution_count": 99,
     "metadata": {},
     "output_type": "execute_result"
    }
   ],
   "source": [
    "total_valid = 0\n",
    "for line in passports:\n",
    "    #print(line)\n",
    "    if line == \"\":\n",
    "        valid = 0\n",
    "        try:\n",
    "            if len(str(byr))==4 and int(byr)>=1920 and int(byr)<=2002:\n",
    "                if len(str(iyr))==4 and int(iyr)>= 2010 and int(iyr) <=2020:\n",
    "                    if len(str(eyr))==4 and int(eyr)>=2020 and int(eyr) <=2030:\n",
    "                        if ecl in ['amb', 'blu', 'brn', 'gry', 'grn', 'hzl', 'oth']:\n",
    "                            if len(str(pid)) == 9:\n",
    "                                if check_hcl(hcl) == 1:\n",
    "                                    hgt_val = int(hgt[:-2])\n",
    "                                    if 'cm' in hgt:\n",
    "                                        if hgt_val <=193 and hgt_val >= 150:\n",
    "                                            valid = 1\n",
    "                                    elif 'in' in hgt:\n",
    "                                        if hgt_val >=59 and hgt_val <= 76:\n",
    "                                            valid = 1\n",
    "\n",
    "                                     \n",
    "        except:\n",
    "            valid = 0\n",
    "        total_valid = total_valid + valid\n",
    "        byr = 0\n",
    "        iyr = 0\n",
    "        eyr = 0\n",
    "        hgt = 0\n",
    "        ecl = 0\n",
    "        hcl = 0\n",
    "        pid = 0\n",
    "                        \n",
    "    entries = line.split(\" \")\n",
    "    for item in entries:\n",
    "        values = item.split(\":\")\n",
    "        if values[0] == 'byr':\n",
    "            byr = values[1]\n",
    "        if values[0] == 'iyr':\n",
    "            iyr = values[1]\n",
    "        if values[0] == 'eyr':\n",
    "            eyr = values[1]\n",
    "        if values[0] == 'hgt':\n",
    "            hgt = values[1]\n",
    "        if values[0] == 'ecl':\n",
    "            ecl = values[1]\n",
    "        if values[0] == 'pid':\n",
    "            pid = values[1]\n",
    "        if values[0] == 'hcl':\n",
    "            hcl = values[1]\n",
    "\n",
    "total_valid"
   ]
  },
  {
   "cell_type": "code",
   "execution_count": null,
   "metadata": {},
   "outputs": [],
   "source": []
  }
 ],
 "metadata": {
  "kernelspec": {
   "display_name": "Python 3",
   "language": "python",
   "name": "python3"
  },
  "language_info": {
   "codemirror_mode": {
    "name": "ipython",
    "version": 3
   },
   "file_extension": ".py",
   "mimetype": "text/x-python",
   "name": "python",
   "nbconvert_exporter": "python",
   "pygments_lexer": "ipython3",
   "version": "3.7.6"
  }
 },
 "nbformat": 4,
 "nbformat_minor": 4
}
