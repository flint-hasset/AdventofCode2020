{
 "cells": [
  {
   "cell_type": "code",
   "execution_count": 2,
   "metadata": {},
   "outputs": [],
   "source": [
    "import pandas as pd\n",
    "import numpy as np\n",
    "import math"
   ]
  },
  {
   "cell_type": "code",
   "execution_count": 1,
   "metadata": {},
   "outputs": [],
   "source": [
    "with open(r'C:\\Users\\stefa\\OneDrive\\Documents\\Python Scripts\\Problem 13 Input.txt') as f:\n",
    "    lines = f.read().split('\\n')\n",
    "lines = lines[:-1]"
   ]
  },
  {
   "cell_type": "markdown",
   "metadata": {},
   "source": [
    "## Part 1"
   ]
  },
  {
   "cell_type": "code",
   "execution_count": 12,
   "metadata": {},
   "outputs": [
    {
     "name": "stdout",
     "output_type": "stream",
     "text": [
      "13 9\n",
      "41 10\n",
      "467 7\n",
      "19 16\n",
      "17 16\n",
      "29 23\n",
      "353 161\n",
      "37 18\n",
      "23 21\n"
     ]
    }
   ],
   "source": [
    "timestamp = int(lines[0])\n",
    "bus_list = [x for x in lines[1].split(',') if x!='x']\n",
    "\n",
    "for bus in bus_list:\n",
    "    bus = int(bus)\n",
    "    print(bus, bus-timestamp%bus)\n"
   ]
  },
  {
   "cell_type": "code",
   "execution_count": 14,
   "metadata": {},
   "outputs": [
    {
     "data": {
      "text/plain": [
       "3269"
      ]
     },
     "execution_count": 14,
     "metadata": {},
     "output_type": "execute_result"
    }
   ],
   "source": [
    "467*7"
   ]
  },
  {
   "cell_type": "markdown",
   "metadata": {},
   "source": [
    "## Part 2\n",
    "Find lowest value for which (Time+Offset)%0 for all buses.\n",
    "LCD?"
   ]
  },
  {
   "cell_type": "code",
   "execution_count": null,
   "metadata": {},
   "outputs": [],
   "source": [
    "bus_list = [int(x) for x in bus_list]\n",
    "min_offset = [int(x) for x in min_offset]"
   ]
  },
  {
   "cell_type": "code",
   "execution_count": 165,
   "metadata": {},
   "outputs": [],
   "source": [
    "def find_gap(bus1, bus2, off1, off2):\n",
    "    valid = 0\n",
    "    x=1\n",
    "    a = []\n",
    "\n",
    "    while valid < 3:\n",
    "        time = bus1*x-off1\n",
    "        if (time+off2)%bus2 == 0:\n",
    "            a.append(time)\n",
    "            valid += 1\n",
    "            if valid == 1:\n",
    "                b = time\n",
    "        x += 1\n",
    "    return [a[2]-a[1], b]\n",
    "        "
   ]
  },
  {
   "cell_type": "code",
   "execution_count": 166,
   "metadata": {},
   "outputs": [
    {
     "name": "stdout",
     "output_type": "stream",
     "text": [
      "672754131923874\n"
     ]
    }
   ],
   "source": [
    "comb_bus = find_gap(bus_list[0], bus_list[1], min_offset[0], min_offset[1])\n",
    "\n",
    "for x in range(2, len(bus_list)):\n",
    "    comb_bus = find_gap(comb_bus[0], bus_list[x], comb_bus[0]-comb_bus[1], min_offset[x])\n",
    "print(comb_bus[1])    "
   ]
  }
 ],
 "metadata": {
  "kernelspec": {
   "display_name": "Python 3",
   "language": "python",
   "name": "python3"
  },
  "language_info": {
   "codemirror_mode": {
    "name": "ipython",
    "version": 3
   },
   "file_extension": ".py",
   "mimetype": "text/x-python",
   "name": "python",
   "nbconvert_exporter": "python",
   "pygments_lexer": "ipython3",
   "version": "3.7.6"
  }
 },
 "nbformat": 4,
 "nbformat_minor": 4
}
