{
 "cells": [
  {
   "cell_type": "code",
   "execution_count": 13,
   "metadata": {},
   "outputs": [],
   "source": [
    "import pandas as pd\n",
    "import numpy as np\n",
    "import math\n",
    "import matplotlib.pyplot as plt\n",
    "%matplotlib inline\n",
    "\n",
    "import timeit"
   ]
  },
  {
   "cell_type": "code",
   "execution_count": 2,
   "metadata": {},
   "outputs": [],
   "source": [
    "with open(r'C:\\Users\\stefa\\OneDrive\\Documents\\Python Scripts\\Problem 24 Input.txt') as f:\n",
    "    lines = f.read().split('\\n')\n",
    "lines = lines[:-1]"
   ]
  },
  {
   "cell_type": "markdown",
   "metadata": {},
   "source": [
    "## Part 1"
   ]
  },
  {
   "cell_type": "code",
   "execution_count": 3,
   "metadata": {},
   "outputs": [],
   "source": [
    "move_dict = {'nw': [-.5,.5],\n",
    "             'ne': [.5,.5],\n",
    "             'sw': [-.5,-.5],\n",
    "             'se': [.5,-.5],\n",
    "             'e': [1,0],\n",
    "             'w': [-1,0]\n",
    "            }"
   ]
  },
  {
   "cell_type": "code",
   "execution_count": 4,
   "metadata": {},
   "outputs": [],
   "source": [
    "def make_commands(line):\n",
    "    comm_list = []\n",
    "    skip_next = 0 \n",
    "\n",
    "    for x in range(len(line)):\n",
    "        char = line[x]\n",
    "        if char == 's' or char =='n':\n",
    "            command = line[x:x+2]\n",
    "            skip_next = 1\n",
    "            comm_list.append(command)\n",
    "        elif skip_next == 1:\n",
    "            skip_next = 0 \n",
    "            pass\n",
    "        else: \n",
    "            command = char\n",
    "            comm_list.append(command)\n",
    "\n",
    "    return comm_list"
   ]
  },
  {
   "cell_type": "code",
   "execution_count": 5,
   "metadata": {},
   "outputs": [
    {
     "data": {
      "text/plain": [
       "388"
      ]
     },
     "execution_count": 5,
     "metadata": {},
     "output_type": "execute_result"
    }
   ],
   "source": [
    "xy_list = []\n",
    "for line in lines:\n",
    "    commands = make_commands(line)\n",
    "    x = 0 \n",
    "    y = 0 \n",
    "    for comm in commands:\n",
    "        x += move_dict.get(comm)[0]\n",
    "        y += move_dict.get(comm)[1]\n",
    "    xy_item = [x,y]\n",
    "    if xy_item in xy_list:\n",
    "        xy_list.remove(xy_item)\n",
    "\n",
    "    else:\n",
    "        xy_list.append(xy_item)\n",
    "len(xy_list)"
   ]
  },
  {
   "cell_type": "markdown",
   "metadata": {},
   "source": [
    "## Part 2"
   ]
  },
  {
   "cell_type": "code",
   "execution_count": 6,
   "metadata": {},
   "outputs": [
    {
     "data": {
      "image/png": "[encoded data removed]",
      "text/plain": [
       "<Figure size 432x288 with 1 Axes>"
      ]
     },
     "metadata": {
      "needs_background": "light"
     },
     "output_type": "display_data"
    }
   ],
   "source": [
    "for dot in xy_list:\n",
    "    plt.scatter(x=dot[0],y=dot[1], c='black')\n",
    "plt.show()"
   ]
  },
  {
   "cell_type": "code",
   "execution_count": 12,
   "metadata": {},
   "outputs": [
    {
     "data": {
      "text/plain": [
       "2"
      ]
     },
     "execution_count": 12,
     "metadata": {},
     "output_type": "execute_result"
    }
   ],
   "source": [
    "count_borders([-16.5, 0.5])\n"
   ]
  },
  {
   "cell_type": "code",
   "execution_count": 11,
   "metadata": {},
   "outputs": [
    {
     "data": {
      "text/plain": [
       "-1"
      ]
     },
     "execution_count": 11,
     "metadata": {},
     "output_type": "execute_result"
    }
   ],
   "source": [
    "move_dict.get('w')[0]"
   ]
  },
  {
   "cell_type": "code",
   "execution_count": null,
   "metadata": {},
   "outputs": [],
   "source": [
    "## Define extreme edges, count spots. "
   ]
  },
  {
   "cell_type": "code",
   "execution_count": 8,
   "metadata": {},
   "outputs": [],
   "source": [
    "def count_borders(xy):\n",
    "    neighbors = 0\n",
    "    for key in move_dict.keys():\n",
    "        x = xy[0]\n",
    "        y = xy[1]\n",
    "        x = x + move_dict.get(key)[0]\n",
    "        y = y + move_dict.get(key)[1]\n",
    "        if [x,y] in xy_list:\n",
    "            neighbors += 1\n",
    "    return neighbors"
   ]
  },
  {
   "cell_type": "code",
   "execution_count": 9,
   "metadata": {},
   "outputs": [],
   "source": [
    "def find_limits(xy_list):\n",
    "    array_xy = np.array(xy_list)\n",
    "    max_x = np.max(array_xy[:,0])+1\n",
    "    max_y = np.max(array_xy[:,1])+1\n",
    "    min_x = np.min(array_xy[:,0])-1\n",
    "    min_y = np.min(array_xy[:,1])-1\n",
    "    return [min_x,max_x,min_y,max_y]"
   ]
  },
  {
   "cell_type": "code",
   "execution_count": 10,
   "metadata": {},
   "outputs": [],
   "source": [
    "def run_gen(xy_list):\n",
    "    flip_to_white = []\n",
    "    flip_to_black = []\n",
    "    limits = find_limits(xy_list)\n",
    "    for x in np.arange(limits[0],limits[1],.5):\n",
    "        for y in np.arange(limits[2],limits[3],.5):\n",
    "            neighbors = count_borders([x,y])\n",
    "            if [x,y] in xy_list and (neighbors == 0 or neighbors > 2):\n",
    "                flip_to_white.append([x,y])\n",
    "            if [x,y] not in xy_list and (neighbors == 2):\n",
    "                flip_to_black.append([x,y])\n",
    "    xy_list = [x for x in xy_list if x not in flip_to_white] + [x for x in flip_to_black]\n",
    "    \n",
    "    return xy_list"
   ]
  },
  {
   "cell_type": "code",
   "execution_count": 14,
   "metadata": {},
   "outputs": [
    {
     "name": "stdout",
     "output_type": "stream",
     "text": [
      "0 294\n",
      "0.416417899999999\n",
      "1 329\n",
      "0.2517887999999999\n",
      "2 357\n",
      "0.24182720000000302\n",
      "3 387\n",
      "0.24329840000000047\n",
      "4 356\n",
      "0.27550899999999956\n",
      "5 395\n",
      "0.2549974000000077\n",
      "6 387\n",
      "0.28332619999999054\n",
      "7 461\n",
      "0.3034899000000024\n",
      "8 468\n",
      "0.34877699999999834\n",
      "9 462\n",
      "0.3647398000000095\n",
      "10 495\n",
      "0.3791685000000058\n",
      "11 511\n",
      "0.4209102999999885\n",
      "12 535\n",
      "0.476188900000011\n",
      "13 577\n",
      "0.5132733000000087\n",
      "14 567\n",
      "0.630539899999988\n",
      "15 619\n",
      "0.638005800000002\n",
      "16 609\n",
      "0.7044262000000003\n",
      "17 671\n",
      "0.6870731999999862\n",
      "18 677\n",
      "0.8001237999999944\n",
      "19 682\n",
      "0.7689347000000026\n",
      "20 720\n",
      "0.8276074999999992\n",
      "21 762\n",
      "0.9374102000000022\n",
      "22 821\n",
      "0.9752489999999909\n",
      "23 772\n",
      "1.0447814999999991\n",
      "24 813\n",
      "1.0380448000000086\n",
      "25 858\n",
      "1.107656299999988\n",
      "26 856\n",
      "1.2574190999999928\n",
      "27 896\n",
      "1.2788903999999945\n",
      "28 907\n",
      "1.381590899999992\n",
      "29 902\n",
      "1.3896280000000019\n",
      "30 1033\n",
      "1.4570931999999885\n",
      "31 1051\n",
      "1.682578499999991\n",
      "32 1061\n",
      "1.7876182999999912\n",
      "33 1011\n",
      "1.826243500000004\n",
      "34 1085\n",
      "1.8392821999999995\n",
      "35 1125\n",
      "2.0162943999999925\n",
      "36 1225\n",
      "2.0944366999999886\n",
      "37 1222\n",
      "2.312247599999992\n",
      "38 1259\n",
      "2.413101700000013\n",
      "39 1268\n",
      "2.608984200000009\n",
      "40 1321\n",
      "2.7043701000000056\n",
      "41 1341\n",
      "2.857092599999987\n",
      "42 1341\n",
      "2.9329358999999897\n",
      "43 1429\n",
      "3.036224200000021\n",
      "44 1417\n",
      "3.303377299999994\n",
      "45 1509\n",
      "3.3333430000000135\n",
      "46 1519\n",
      "3.558354400000013\n",
      "47 1651\n",
      "3.6819000999999787\n",
      "48 1588\n",
      "4.091324500000013\n",
      "49 1643\n",
      "4.004078100000015\n",
      "50 1585\n",
      "4.334784600000006\n",
      "51 1719\n",
      "4.299912699999993\n",
      "52 1804\n",
      "4.769926699999985\n",
      "53 1746\n",
      "5.078613399999995\n",
      "54 1842\n",
      "5.015753499999988\n",
      "55 1804\n",
      "5.481806899999981\n",
      "56 1949\n",
      "5.275841200000002\n",
      "57 1975\n",
      "5.778767799999997\n",
      "58 2000\n",
      "6.139333299999976\n",
      "59 2050\n",
      "6.2607147000000225\n",
      "60 2070\n",
      "6.603420999999997\n",
      "61 2076\n",
      "6.862960900000019\n",
      "62 2179\n",
      "6.83933540000001\n",
      "63 2099\n",
      "7.28117979999999\n",
      "64 2302\n",
      "7.407297099999994\n",
      "65 2261\n",
      "8.087605100000019\n",
      "66 2320\n",
      "8.158465799999988\n",
      "67 2411\n",
      "8.437531799999988\n",
      "68 2540\n",
      "8.849150699999996\n",
      "69 2482\n",
      "9.627412099999958\n",
      "70 2520\n",
      "9.983527999999978\n",
      "71 2575\n",
      "10.157382900000016\n",
      "72 2662\n",
      "10.51681149999996\n",
      "73 2557\n",
      "11.325431399999957\n",
      "74 2736\n",
      "10.765063700000042\n",
      "75 2701\n",
      "11.909081599999979\n",
      "76 2863\n",
      "11.883562900000015\n",
      "77 2817\n",
      "13.201197100000002\n",
      "78 3025\n",
      "13.694479000000001\n",
      "79 2847\n",
      "14.021811499999956\n",
      "80 2901\n",
      "16.058468600000026\n",
      "81 3034\n",
      "16.238383199999987\n",
      "82 3089\n",
      "15.929549099999974\n",
      "83 3065\n",
      "16.13210190000001\n",
      "84 3173\n",
      "16.39941349999998\n",
      "85 3239\n",
      "18.782319099999995\n",
      "86 3302\n",
      "18.62075320000008\n",
      "87 3323\n",
      "22.591032399999904\n",
      "88 3373\n",
      "29.243697300000008\n",
      "89 3307\n",
      "31.651087000000075\n",
      "90 3532\n",
      "25.78653470000006\n",
      "91 3634\n",
      "44.454575699999964\n",
      "92 3567\n",
      "51.70604490000005\n",
      "93 3683\n",
      "39.469132700000046\n",
      "94 3722\n",
      "34.73447269999997\n",
      "95 3715\n",
      "39.70162259999995\n",
      "96 3809\n",
      "35.51797529999999\n",
      "97 3828\n",
      "33.278270099999986\n",
      "98 4041\n",
      "32.70419270000002\n",
      "99 4002\n",
      "37.121770800000036\n"
     ]
    },
    {
     "data": {
      "text/plain": [
       "4002"
      ]
     },
     "execution_count": 14,
     "metadata": {},
     "output_type": "execute_result"
    }
   ],
   "source": [
    "for x in range(100):\n",
    "    start = timeit.default_timer()\n",
    "    \n",
    "    xy_list = run_gen(xy_list)\n",
    "    print(x, len(xy_list))\n",
    "    \n",
    "    stop = timeit.default_timer()\n",
    "    print(stop-start)\n",
    "    \n",
    "    \n",
    "len(xy_list)\n",
    "\n"
   ]
  },
  {
   "cell_type": "code",
   "execution_count": 16,
   "metadata": {},
   "outputs": [
    {
     "data": {
      "image/png": "[encoded data removed]",
      "text/plain": [
       "<Figure size 432x288 with 1 Axes>"
      ]
     },
     "metadata": {
      "needs_background": "light"
     },
     "output_type": "display_data"
    }
   ],
   "source": [
    "for dot in xy_list:\n",
    "    plt.scatter(x=dot[0],y=dot[1], c='black', s=.5)\n",
    "plt.show()"
   ]
  }
 ],
 "metadata": {
  "kernelspec": {
   "display_name": "Python 3",
   "language": "python",
   "name": "python3"
  },
  "language_info": {
   "codemirror_mode": {
    "name": "ipython",
    "version": 3
   },
   "file_extension": ".py",
   "mimetype": "text/x-python",
   "name": "python",
   "nbconvert_exporter": "python",
   "pygments_lexer": "ipython3",
   "version": "3.7.6"
  }
 },
 "nbformat": 4,
 "nbformat_minor": 4
}
