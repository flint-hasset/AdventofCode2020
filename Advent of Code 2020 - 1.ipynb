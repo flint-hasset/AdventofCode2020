{
 "cells": [
  {
   "cell_type": "markdown",
   "metadata": {},
   "source": [
    "## Find two entries that sum to 2020 and multiply them"
   ]
  },
  {
   "cell_type": "code",
   "execution_count": 1,
   "metadata": {},
   "outputs": [],
   "source": [
    "import numpy as np\n",
    "import pandas as pd"
   ]
  },
  {
   "cell_type": "code",
   "execution_count": 9,
   "metadata": {},
   "outputs": [],
   "source": [
    "numbers = pd.read_csv(r'C:\\Users\\stefa\\OneDrive\\Documents\\Python Scripts\\Advent of Code 2020 - 1 input.csv')\n",
    "numbers = list(numbers.columns.values)"
   ]
  },
  {
   "cell_type": "code",
   "execution_count": 16,
   "metadata": {},
   "outputs": [],
   "source": [
    "numbers = [int(x) for x in numbers]"
   ]
  },
  {
   "cell_type": "code",
   "execution_count": 19,
   "metadata": {},
   "outputs": [
    {
     "name": "stdout",
     "output_type": "stream",
     "text": [
      "1589 383 48 29212176\n",
      "1589 48 383 29212176\n",
      "383 1589 48 29212176\n",
      "383 48 1589 29212176\n",
      "48 1589 383 29212176\n",
      "48 383 1589 29212176\n"
     ]
    }
   ],
   "source": [
    "for number in numbers:\n",
    "    for number_2 in numbers:\n",
    "        for number_3 in numbers:\n",
    "            if number + number_2 +number_3 == 2020:\n",
    "                print(number, number_2, number_3, number*number_2*number_3)\n"
   ]
  },
  {
   "cell_type": "code",
   "execution_count": null,
   "metadata": {},
   "outputs": [],
   "source": []
  },
  {
   "cell_type": "code",
   "execution_count": null,
   "metadata": {},
   "outputs": [],
   "source": []
  }
 ],
 "metadata": {
  "kernelspec": {
   "display_name": "Python 3",
   "language": "python",
   "name": "python3"
  },
  "language_info": {
   "codemirror_mode": {
    "name": "ipython",
    "version": 3
   },
   "file_extension": ".py",
   "mimetype": "text/x-python",
   "name": "python",
   "nbconvert_exporter": "python",
   "pygments_lexer": "ipython3",
   "version": "3.7.6"
  }
 },
 "nbformat": 4,
 "nbformat_minor": 4
}
