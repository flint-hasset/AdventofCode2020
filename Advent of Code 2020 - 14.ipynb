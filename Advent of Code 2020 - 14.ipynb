{
 "cells": [
  {
   "cell_type": "code",
   "execution_count": 2,
   "metadata": {},
   "outputs": [],
   "source": [
    "import pandas as pd\n",
    "import numpy as np\n",
    "import math"
   ]
  },
  {
   "cell_type": "code",
   "execution_count": 1,
   "metadata": {},
   "outputs": [],
   "source": [
    "with open(r'C:\\Users\\stefa\\OneDrive\\Documents\\Python Scripts\\Problem 14 Input.txt') as f:\n",
    "    lines = f.read().split('\\n')\n",
    "lines = lines[:-1]"
   ]
  },
  {
   "cell_type": "markdown",
   "metadata": {},
   "source": [
    "## Part 1"
   ]
  },
  {
   "cell_type": "code",
   "execution_count": 56,
   "metadata": {},
   "outputs": [],
   "source": [
    "def bit_repl(mask, int_val):\n",
    "    bin_val = format(int_val,'b').zfill(36)\n",
    "    bitlist = ''\n",
    "    for x in range(36):\n",
    "        if mask[x]=='X':\n",
    "            bitlist = str(bitlist) + str(bin_val[x])\n",
    "        else:\n",
    "            bitlist = str(bitlist) + str(mask[x])\n",
    "    return int(bitlist,2)"
   ]
  },
  {
   "cell_type": "code",
   "execution_count": 55,
   "metadata": {},
   "outputs": [
    {
     "data": {
      "text/plain": [
       "9296748256641"
      ]
     },
     "execution_count": 55,
     "metadata": {},
     "output_type": "execute_result"
    }
   ],
   "source": [
    "mem = {}\n",
    "for line in lines:\n",
    "    if line[:4] == 'mask':\n",
    "        mask = line[7:]\n",
    "    \n",
    "    else:\n",
    "        int_val = int(line.split('=')[1][1:])\n",
    "        \n",
    "        mem[line.split('=')[0][4:-2]] = bit_repl(mask, int_val)\n",
    "\n",
    "sum(mem.values())"
   ]
  },
  {
   "cell_type": "markdown",
   "metadata": {},
   "source": [
    "## Part 2"
   ]
  },
  {
   "cell_type": "code",
   "execution_count": 139,
   "metadata": {},
   "outputs": [],
   "source": [
    "def float_masks(bin_val):\n",
    "    mem_list = []\n",
    "    power = bin_val.count('X')\n",
    "    floatlist = float_bits(power)\n",
    "\n",
    "    for fm in floatlist:\n",
    "        x_count = 0\n",
    "        newmem = ''\n",
    "\n",
    "        for char in bin_val:\n",
    "            if char =='X':\n",
    "                newmem = newmem + str(fm[x_count])\n",
    "                x_count += 1\n",
    "            else:\n",
    "                newmem = newmem + str(char)\n",
    "        mem_list.append(newmem)\n",
    "    \n",
    "    return mem_list\n",
    " \n",
    "def float_bits(power):\n",
    "    return [format(x,'b').zfill(power) for x in range(2**power)]\n",
    "\n",
    "def bit_repl2(mask, int_val):\n",
    "    bin_val = format(int_val,'b').zfill(36)\n",
    "    bitlist = ''\n",
    "    for x in range(36):\n",
    "        if mask[x]=='1':\n",
    "            bitlist = bitlist + str(mask[x])\n",
    "        elif mask[x]=='0':\n",
    "            bitlist = bitlist + str(bin_val[x])\n",
    "        elif mask[x]=='X':\n",
    "            bitlist = bitlist + str('X')\n",
    "\n",
    "    return bitlist\n",
    "\n"
   ]
  },
  {
   "cell_type": "code",
   "execution_count": 141,
   "metadata": {},
   "outputs": [
    {
     "name": "stdout",
     "output_type": "stream",
     "text": [
      "4877695371685\n"
     ]
    }
   ],
   "source": [
    "mem = {}\n",
    "all_sum = 0\n",
    "total_mems = 0\n",
    "\n",
    "for line in lines:\n",
    "    if line[:4] == 'mask':\n",
    "        mask = line[7:]\n",
    "    else:\n",
    "        storage = int(line.split('=')[1][1:])\n",
    "        int_val = int(line.split('=')[0][4:-2])\n",
    "        \n",
    "        mem_list = float_masks(bit_repl2(mask,int_val))\n",
    "        \n",
    "        for mem_spot in mem_list:\n",
    "            mem[mem_spot] = storage\n",
    "\n",
    "print(sum(mem.values()))\n"
   ]
  }
 ],
 "metadata": {
  "kernelspec": {
   "display_name": "Python 3",
   "language": "python",
   "name": "python3"
  },
  "language_info": {
   "codemirror_mode": {
    "name": "ipython",
    "version": 3
   },
   "file_extension": ".py",
   "mimetype": "text/x-python",
   "name": "python",
   "nbconvert_exporter": "python",
   "pygments_lexer": "ipython3",
   "version": "3.7.6"
  }
 },
 "nbformat": 4,
 "nbformat_minor": 4
}
