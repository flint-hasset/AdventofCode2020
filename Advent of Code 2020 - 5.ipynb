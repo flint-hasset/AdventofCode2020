{
 "cells": [
  {
   "cell_type": "code",
   "execution_count": 1,
   "metadata": {},
   "outputs": [],
   "source": [
    "import pandas as pd\n",
    "import numpy as np"
   ]
  },
  {
   "cell_type": "code",
   "execution_count": 3,
   "metadata": {},
   "outputs": [],
   "source": [
    "file = open(r'C:\\Users\\stefa\\OneDrive\\Documents\\Python Scripts\\Problem 5 Input.txt','r')\n",
    "tickets = []\n",
    "for line in file:\n",
    "    stripped_line = line.strip()\n",
    "    line_list = stripped_line.split()\n",
    "    tickets.append(stripped_line)\n",
    "file.close()"
   ]
  },
  {
   "cell_type": "markdown",
   "metadata": {},
   "source": [
    "## Part 1"
   ]
  },
  {
   "cell_type": "code",
   "execution_count": 5,
   "metadata": {},
   "outputs": [
    {
     "data": {
      "text/plain": [
       "'BFFFFFFLLR'"
      ]
     },
     "execution_count": 5,
     "metadata": {},
     "output_type": "execute_result"
    }
   ],
   "source": [
    "tickets[0]"
   ]
  },
  {
   "cell_type": "code",
   "execution_count": 54,
   "metadata": {},
   "outputs": [],
   "source": [
    "def split_rows(rows_list,fb):\n",
    "    if fb == 'F':\n",
    "        rows_list = rows_list[:int(len(rows_list)/2)]\n",
    "    else:\n",
    "        rows_list = rows_list[int(len(rows_list)/2):]\n",
    "    return rows_list\n",
    "\n",
    "def split_seats(rows_list,fb):\n",
    "    if fb == 'L':\n",
    "        rows_list = rows_list[:int(len(rows_list)/2)]\n",
    "    else:\n",
    "        rows_list = rows_list[int(len(rows_list)/2):]\n",
    "    return rows_list\n",
    "\n",
    "def find_row(ticket):\n",
    "    rows_list = [x for x in range(128)]\n",
    "    for x in ticket[:7]:\n",
    "        rows_list = split_rows(rows_list,x)\n",
    "    return rows_list[0]\n",
    "\n",
    "def find_seat(ticket):\n",
    "    seat_list = [x for x in range(8)]\n",
    "    for x in ticket[7:]:\n",
    "        seat_list = split_seats(seat_list,x)\n",
    "    return seat_list[0]\n",
    "\n",
    "def ticket_id(ticket):\n",
    "    seat_id = find_row(ticket)*8 + find_seat(ticket) \n",
    "    return seat_id"
   ]
  },
  {
   "cell_type": "code",
   "execution_count": 38,
   "metadata": {},
   "outputs": [
    {
     "data": {
      "text/plain": [
       "935"
      ]
     },
     "execution_count": 38,
     "metadata": {},
     "output_type": "execute_result"
    }
   ],
   "source": [
    "max_seat = 0\n",
    "for ticket in tickets:\n",
    "    seat_id = ticket_id(ticket) \n",
    "    if seat_id > max_seat:\n",
    "        max_seat = seat_id\n",
    "max_seat"
   ]
  },
  {
   "cell_type": "markdown",
   "metadata": {},
   "source": [
    "## Part 2"
   ]
  },
  {
   "cell_type": "code",
   "execution_count": 47,
   "metadata": {},
   "outputs": [
    {
     "data": {
      "text/plain": [
       "1023"
      ]
     },
     "execution_count": 47,
     "metadata": {},
     "output_type": "execute_result"
    }
   ],
   "source": [
    "127*8+7"
   ]
  },
  {
   "cell_type": "code",
   "execution_count": 59,
   "metadata": {},
   "outputs": [
    {
     "name": "stdout",
     "output_type": "stream",
     "text": [
      "743\n"
     ]
    }
   ],
   "source": [
    "id_list = []\n",
    "for ticket in tickets:\n",
    "    id_list.append(ticket_id(ticket))\n",
    "possible_id = [x for x in range(1023)]\n",
    "\n",
    "nonunion = set(possible_id) - set(id_list)\n",
    "\n",
    "for x in nonunion:\n",
    "    if x+1 in id_list and x-1 in id_list:\n",
    "        print(x)"
   ]
  },
  {
   "cell_type": "code",
   "execution_count": null,
   "metadata": {},
   "outputs": [],
   "source": []
  }
 ],
 "metadata": {
  "kernelspec": {
   "display_name": "Python 3",
   "language": "python",
   "name": "python3"
  },
  "language_info": {
   "codemirror_mode": {
    "name": "ipython",
    "version": 3
   },
   "file_extension": ".py",
   "mimetype": "text/x-python",
   "name": "python",
   "nbconvert_exporter": "python",
   "pygments_lexer": "ipython3",
   "version": "3.7.6"
  }
 },
 "nbformat": 4,
 "nbformat_minor": 4
}
