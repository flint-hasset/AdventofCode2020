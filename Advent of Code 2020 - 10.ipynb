{
 "cells": [
  {
   "cell_type": "code",
   "execution_count": 17,
   "metadata": {},
   "outputs": [],
   "source": [
    "import pandas as pd\n",
    "import numpy as np"
   ]
  },
  {
   "cell_type": "code",
   "execution_count": 56,
   "metadata": {},
   "outputs": [],
   "source": [
    "with open(r'C:\\Users\\stefa\\OneDrive\\Documents\\Python Scripts\\Problem 10 Input.txt') as f:\n",
    "    lines = f.read().split('\\n')\n",
    "if lines[-1] == \"\":\n",
    "    lines = [int(x) for x in lines[:-1]]"
   ]
  },
  {
   "cell_type": "code",
   "execution_count": 57,
   "metadata": {},
   "outputs": [],
   "source": [
    "lines.sort()\n"
   ]
  },
  {
   "cell_type": "markdown",
   "metadata": {},
   "source": [
    "## Part 1"
   ]
  },
  {
   "cell_type": "code",
   "execution_count": 58,
   "metadata": {},
   "outputs": [
    {
     "data": {
      "text/plain": [
       "2590"
      ]
     },
     "execution_count": 58,
     "metadata": {},
     "output_type": "execute_result"
    }
   ],
   "source": [
    "step_1 = np.where(lines[0]==1,1,0)\n",
    "step_3 = 1 + np.where(lines[0]==3,1,0)   #Final adapter is 3 higher by definition\n",
    "\n",
    "for x in range(len(lines)-1):\n",
    "    diff = lines[x+1] - lines[x]\n",
    "    if diff == 3:\n",
    "        step_3 += 1\n",
    "    if diff == 1:\n",
    "        step_1 += 1\n",
    "\n",
    "step_3 * step_1\n",
    "        \n"
   ]
  },
  {
   "cell_type": "markdown",
   "metadata": {},
   "source": [
    "## Part 2\n",
    "How many paths?\n",
    "\n",
    "1. Simplify problems by finding required nodes, and splitting into sections between nodes. E.g. Min and Max nodes must exist,  or nodes with gaps of 3.\n",
    "2. For each area between nodes, calculate possible paths. \n",
    "3. Multiply all node paths\n"
   ]
  },
  {
   "cell_type": "code",
   "execution_count": 61,
   "metadata": {},
   "outputs": [],
   "source": [
    "lines.append(0)\n",
    "lines.sort()"
   ]
  },
  {
   "cell_type": "code",
   "execution_count": 62,
   "metadata": {},
   "outputs": [],
   "source": [
    "musts = [max(lines),min(lines)]\n",
    "\n",
    "for x in range(len(lines)-1):\n",
    "    gap = lines[x+1]-lines[x]\n",
    "    if gap == 3:\n",
    "        musts.append(lines[x])\n",
    "\n",
    "for x in range(1,len(lines)):\n",
    "    gap = lines[x]-lines[x-1]\n",
    "    if gap == 3:\n",
    "        musts.append(lines[x])\n",
    "\n",
    "musts = list(set(musts))\n",
    "musts.sort()"
   ]
  },
  {
   "cell_type": "code",
   "execution_count": 63,
   "metadata": {},
   "outputs": [
    {
     "name": "stdout",
     "output_type": "stream",
     "text": [
      "226775649501184\n"
     ]
    }
   ],
   "source": [
    "paths = 1\n",
    "#THIS ONLY WORKS FOR MY INPUT THAT HAS NO JUMPS OF 2. Shoud replace with a function to do this count correctly. \n",
    "path_counts = {2:1, 3:2, 4:4, 5:7} #Dictionary for number of paths between nodes containing n interim values. \n",
    "\n",
    "for x in range(len(musts)-1):\n",
    "    low = musts[x]\n",
    "    high = musts[x+1]\n",
    "    paths = paths * path_counts.get(len([y for y in lines if y>=low and y<=high]))\n",
    "print(paths)"
   ]
  }
 ],
 "metadata": {
  "kernelspec": {
   "display_name": "Python 3",
   "language": "python",
   "name": "python3"
  },
  "language_info": {
   "codemirror_mode": {
    "name": "ipython",
    "version": 3
   },
   "file_extension": ".py",
   "mimetype": "text/x-python",
   "name": "python",
   "nbconvert_exporter": "python",
   "pygments_lexer": "ipython3",
   "version": "3.7.6"
  }
 },
 "nbformat": 4,
 "nbformat_minor": 4
}
