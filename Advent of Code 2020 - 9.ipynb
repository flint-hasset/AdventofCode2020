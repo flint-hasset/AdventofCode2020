{
 "cells": [
  {
   "cell_type": "code",
   "execution_count": 5,
   "metadata": {},
   "outputs": [],
   "source": [
    "import pandas as pd\n",
    "import numpy as np"
   ]
  },
  {
   "cell_type": "code",
   "execution_count": 6,
   "metadata": {},
   "outputs": [],
   "source": [
    "with open(r'C:\\Users\\stefa\\OneDrive\\Documents\\Python Scripts\\Problem 9 Input.txt') as f:\n",
    "    lines = f.read().split('\\n')\n",
    "lines = [int(x) for x in lines[:-1]]"
   ]
  },
  {
   "cell_type": "markdown",
   "metadata": {},
   "source": [
    "## Part 1"
   ]
  },
  {
   "cell_type": "code",
   "execution_count": 7,
   "metadata": {},
   "outputs": [
    {
     "name": "stdout",
     "output_type": "stream",
     "text": [
      "466456641\n"
     ]
    }
   ],
   "source": [
    "for x in range(len(lines[25:])):\n",
    "    target = lines[x+25]\n",
    "    met = 0 \n",
    "    for y in lines[x:x+25]:\n",
    "        for z in lines[x:x+25]:\n",
    "#            print(met, y, z, y+z, target)\n",
    "            if y != z and y + z == target:\n",
    "                met = 1\n",
    "                break\n",
    "        if met == 1:\n",
    "            break\n",
    "    if met == 0:\n",
    "        print(lines[25:][x])\n",
    "        break\n",
    "            \n"
   ]
  },
  {
   "cell_type": "markdown",
   "metadata": {},
   "source": [
    "## Part 2\n",
    "Find list of consectuive numbers that add up to part 1 answer"
   ]
  },
  {
   "cell_type": "code",
   "execution_count": 11,
   "metadata": {},
   "outputs": [
    {
     "name": "stdout",
     "output_type": "stream",
     "text": [
      "55732936\n"
     ]
    }
   ],
   "source": [
    "target = 466456641\n",
    "\n",
    "for x in range(len(lines)):\n",
    "    length = 1\n",
    "    cont_sum = lines[x] + lines[x+1]\n",
    "    if cont_sum == target:\n",
    "        print(lines[x], lines[x+1])\n",
    "        break\n",
    "    else:\n",
    "        while cont_sum < target:\n",
    "            length += 1\n",
    "            cont_sum = cont_sum + lines[x+length]\n",
    "            if cont_sum == target:\n",
    "                print(max(lines[x:x+length+1]) + min(lines[x:x+length+1]))\n",
    "    if cont_sum == target:\n",
    "        break\n"
   ]
  }
 ],
 "metadata": {
  "kernelspec": {
   "display_name": "Python 3",
   "language": "python",
   "name": "python3"
  },
  "language_info": {
   "codemirror_mode": {
    "name": "ipython",
    "version": 3
   },
   "file_extension": ".py",
   "mimetype": "text/x-python",
   "name": "python",
   "nbconvert_exporter": "python",
   "pygments_lexer": "ipython3",
   "version": "3.7.6"
  }
 },
 "nbformat": 4,
 "nbformat_minor": 4
}
