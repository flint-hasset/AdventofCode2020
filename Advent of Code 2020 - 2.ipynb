{
 "cells": [
  {
   "cell_type": "code",
   "execution_count": 1,
   "metadata": {},
   "outputs": [],
   "source": [
    "import pandas as pd\n",
    "import numpy as np"
   ]
  },
  {
   "cell_type": "code",
   "execution_count": 12,
   "metadata": {},
   "outputs": [],
   "source": [
    "file = open(r'C:\\Users\\stefa\\OneDrive\\Documents\\Python Scripts\\Problem 2 Input.txt','r')\n",
    "password_list = []\n",
    "for line in file:\n",
    "    stripped_line = line.strip()\n",
    "    line_list = stripped_line.split()\n",
    "    password_list.append(line_list)\n",
    "\n",
    "file.close()\n",
    "\n"
   ]
  },
  {
   "cell_type": "markdown",
   "metadata": {},
   "source": [
    "## Part 1"
   ]
  },
  {
   "cell_type": "code",
   "execution_count": 33,
   "metadata": {},
   "outputs": [
    {
     "data": {
      "text/plain": [
       "666"
      ]
     },
     "execution_count": 33,
     "metadata": {},
     "output_type": "execute_result"
    }
   ],
   "source": [
    "valid = 0\n",
    "for password in password_list:\n",
    "    min_char = int(password[0].split('-')[0])\n",
    "    max_char = int(password[0].split('-')[1])\n",
    "    target = password[1][0]\n",
    "    entry = password[2]\n",
    "    counter = 0\n",
    "    for char in entry:\n",
    "        if char == target:\n",
    "            counter = counter + 1\n",
    "    if counter >= min_char and counter <= max_char:\n",
    "        valid = valid + 1\n",
    "valid"
   ]
  },
  {
   "cell_type": "markdown",
   "metadata": {},
   "source": [
    "## Part 2"
   ]
  },
  {
   "cell_type": "code",
   "execution_count": 35,
   "metadata": {},
   "outputs": [
    {
     "data": {
      "text/plain": [
       "670"
      ]
     },
     "execution_count": 35,
     "metadata": {},
     "output_type": "execute_result"
    }
   ],
   "source": [
    "valid = 0\n",
    "for password in password_list:\n",
    "    min_char = int(password[0].split('-')[0])\n",
    "    max_char = int(password[0].split('-')[1])\n",
    "    target = password[1][0]\n",
    "    entry = password[2]\n",
    "    counter = 0\n",
    "    if entry[min_char-1] == target:\n",
    "        counter = counter + 1\n",
    "    if entry[max_char-1] == target:\n",
    "        counter = counter + 1\n",
    "    if counter == 1:\n",
    "        valid = valid + 1\n",
    "valid"
   ]
  },
  {
   "cell_type": "code",
   "execution_count": null,
   "metadata": {},
   "outputs": [],
   "source": []
  }
 ],
 "metadata": {
  "kernelspec": {
   "display_name": "Python 3",
   "language": "python",
   "name": "python3"
  },
  "language_info": {
   "codemirror_mode": {
    "name": "ipython",
    "version": 3
   },
   "file_extension": ".py",
   "mimetype": "text/x-python",
   "name": "python",
   "nbconvert_exporter": "python",
   "pygments_lexer": "ipython3",
   "version": "3.7.6"
  }
 },
 "nbformat": 4,
 "nbformat_minor": 4
}
