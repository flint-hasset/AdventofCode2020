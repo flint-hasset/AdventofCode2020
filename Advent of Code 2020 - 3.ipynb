{
 "cells": [
  {
   "cell_type": "code",
   "execution_count": 1,
   "metadata": {},
   "outputs": [],
   "source": [
    "import pandas as pd\n",
    "import numpy as np"
   ]
  },
  {
   "cell_type": "code",
   "execution_count": 18,
   "metadata": {},
   "outputs": [],
   "source": [
    "file = open(r'C:\\Users\\stefa\\OneDrive\\Documents\\Python Scripts\\Problem 3 Input.txt','r')\n",
    "tree_slope = []\n",
    "for line in file:\n",
    "    stripped_line = line.strip()\n",
    "    line_list = stripped_line.split()\n",
    "    tree_slope.append(stripped_line)\n",
    "\n",
    "file.close()\n",
    "\n"
   ]
  },
  {
   "cell_type": "markdown",
   "metadata": {},
   "source": [
    "## Part 1"
   ]
  },
  {
   "cell_type": "code",
   "execution_count": 28,
   "metadata": {},
   "outputs": [
    {
     "data": {
      "text/plain": [
       "'....#...............#.#..###.##'"
      ]
     },
     "execution_count": 28,
     "metadata": {},
     "output_type": "execute_result"
    }
   ],
   "source": [
    "tree_slope[0]\n"
   ]
  },
  {
   "cell_type": "code",
   "execution_count": 31,
   "metadata": {},
   "outputs": [
    {
     "data": {
      "text/plain": [
       "2"
      ]
     },
     "execution_count": 31,
     "metadata": {},
     "output_type": "execute_result"
    }
   ],
   "source": [
    "33%31"
   ]
  },
  {
   "cell_type": "code",
   "execution_count": 32,
   "metadata": {},
   "outputs": [
    {
     "data": {
      "text/plain": [
       "211"
      ]
     },
     "execution_count": 32,
     "metadata": {},
     "output_type": "execute_result"
    }
   ],
   "source": [
    "x_pos = 0\n",
    "y_pos = 0\n",
    "x_incr = 3\n",
    "y_incr = 1\n",
    "trees_met = 0\n",
    "\n",
    "for x in range(323):\n",
    "    elevation = tree_slope[y_pos]\n",
    "    location = elevation[x_pos%31]\n",
    "    if location == '#':\n",
    "        trees_met = trees_met + 1\n",
    "    x_pos = x_pos + x_incr\n",
    "    y_pos = y_pos + y_incr\n",
    "trees_met"
   ]
  },
  {
   "cell_type": "markdown",
   "metadata": {},
   "source": [
    "## Part 2"
   ]
  },
  {
   "cell_type": "code",
   "execution_count": 48,
   "metadata": {},
   "outputs": [
    {
     "name": "stdout",
     "output_type": "stream",
     "text": [
      "67 1\n",
      "211 67\n",
      "77 14137\n",
      "89 1088549\n",
      "37 96880861\n"
     ]
    },
    {
     "data": {
      "text/plain": [
       "3584591857"
      ]
     },
     "execution_count": 48,
     "metadata": {},
     "output_type": "execute_result"
    }
   ],
   "source": [
    "\n",
    "x_incr_list = [1,3,5,7,1]\n",
    "y_incr_list = [1,1,1,1,2]\n",
    "\n",
    "met_product = 1\n",
    "for y in range(5):\n",
    "    x_pos = 0\n",
    "    y_pos = 0\n",
    "    trees_met = 0\n",
    "    for x in range(323):\n",
    "        if y_pos > 323:\n",
    "            break\n",
    "        elevation = tree_slope[y_pos]\n",
    "        location = elevation[x_pos%31]\n",
    "        if location == '#':\n",
    "            trees_met = trees_met + 1\n",
    "        x_pos = x_pos + x_incr_list[y]\n",
    "        y_pos = y_pos + y_incr_list[y]\n",
    "    print(trees_met, met_product)\n",
    "    met_product = met_product * trees_met\n",
    "met_product"
   ]
  },
  {
   "cell_type": "code",
   "execution_count": 44,
   "metadata": {},
   "outputs": [
    {
     "data": {
      "text/plain": [
       "324"
      ]
     },
     "execution_count": 44,
     "metadata": {},
     "output_type": "execute_result"
    }
   ],
   "source": [
    "y_pos"
   ]
  }
 ],
 "metadata": {
  "kernelspec": {
   "display_name": "Python 3",
   "language": "python",
   "name": "python3"
  },
  "language_info": {
   "codemirror_mode": {
    "name": "ipython",
    "version": 3
   },
   "file_extension": ".py",
   "mimetype": "text/x-python",
   "name": "python",
   "nbconvert_exporter": "python",
   "pygments_lexer": "ipython3",
   "version": "3.7.6"
  }
 },
 "nbformat": 4,
 "nbformat_minor": 4
}
