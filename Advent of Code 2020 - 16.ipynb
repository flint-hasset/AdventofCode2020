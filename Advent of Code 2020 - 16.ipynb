{
 "cells": [
  {
   "cell_type": "code",
   "execution_count": 2,
   "metadata": {},
   "outputs": [],
   "source": [
    "import pandas as pd\n",
    "import numpy as np\n",
    "import math"
   ]
  },
  {
   "cell_type": "code",
   "execution_count": 1,
   "metadata": {},
   "outputs": [],
   "source": [
    "with open(r'C:\\Users\\stefa\\OneDrive\\Documents\\Python Scripts\\Problem 16 Input.txt') as f:\n",
    "    lines = f.read().split('\\n')\n",
    "lines = lines[:-1]"
   ]
  },
  {
   "cell_type": "markdown",
   "metadata": {},
   "source": [
    "## Part 1"
   ]
  },
  {
   "cell_type": "code",
   "execution_count": 40,
   "metadata": {},
   "outputs": [],
   "source": [
    "rules = lines[:20]\n",
    "my_tix = lines[22]\n",
    "nearby = lines[25:]"
   ]
  },
  {
   "cell_type": "code",
   "execution_count": 157,
   "metadata": {},
   "outputs": [],
   "source": [
    "def check_rule(value,rule):\n",
    "    vals = rule_split(rule)\n",
    "    if (value >= vals[0] and value <= vals[1]) or (value >= vals[2] and value <= vals[3]):\n",
    "        ok = 1\n",
    "    else:\n",
    "        ok = 0\n",
    "    return ok\n",
    "\n",
    "def rule_split(rule):\n",
    "    numbers = rule.split(\": \")[1].split(\" or \")\n",
    "    r1min = numbers[0].split('-')[0]\n",
    "    r1max = numbers[0].split('-')[1]\n",
    "    r2min = numbers[1].split('-')[0]\n",
    "    r2max = numbers[1].split('-')[1]\n",
    "    temp_list = [r1min, r1max, r2min, r2max]\n",
    "    \n",
    "    return [int(x) for x in temp_list]\n",
    "    "
   ]
  },
  {
   "cell_type": "code",
   "execution_count": 158,
   "metadata": {},
   "outputs": [
    {
     "data": {
      "text/plain": [
       "21978"
      ]
     },
     "execution_count": 158,
     "metadata": {},
     "output_type": "execute_result"
    }
   ],
   "source": [
    "error_rate = 0\n",
    "for ticket in nearby:\n",
    "    values = [int(x) for x in ticket.split(',')]\n",
    "    for value in values:\n",
    "        ok = 0\n",
    "        for rule in rules:\n",
    "            if check_rule(value,rule) == 1:\n",
    "                ok = 1\n",
    "        if ok == 0:\n",
    "            error_rate += value  \n",
    "error_rate"
   ]
  },
  {
   "cell_type": "markdown",
   "metadata": {},
   "source": [
    "## Part 2"
   ]
  },
  {
   "cell_type": "code",
   "execution_count": 255,
   "metadata": {},
   "outputs": [],
   "source": [
    "def check_tickets(rule, tickets, ticket_field):\n",
    "    valid = 1\n",
    "    for ticket in tickets:\n",
    "        value = int(ticket.split(',')[ticket_field])\n",
    "        if check_rule(value, rule) == 0:\n",
    "            valid = 0\n",
    "            break\n",
    "        \n",
    "    return valid"
   ]
  },
  {
   "cell_type": "code",
   "execution_count": 250,
   "metadata": {},
   "outputs": [
    {
     "data": {
      "text/plain": [
       "190"
      ]
     },
     "execution_count": 250,
     "metadata": {},
     "output_type": "execute_result"
    }
   ],
   "source": [
    "## Make a list of valid tickets\n",
    "good_tix = []\n",
    "for ticket in nearby:\n",
    "    values = [int(x) for x in ticket.split(',')]\n",
    "    good = 1 \n",
    "    for value in values:\n",
    "        ok = 0\n",
    "        for rule in rules:\n",
    "            if check_rule(value,rule) == 1:\n",
    "                ok = 1\n",
    "        good = ok*good\n",
    "        \n",
    "    if good == 1:\n",
    "        good_tix.append(ticket) \n",
    "len(good_tix)"
   ]
  },
  {
   "cell_type": "code",
   "execution_count": 252,
   "metadata": {},
   "outputs": [],
   "source": [
    "# y is ticket fields, x is rules satisfied by those fields\n",
    "# E.g. field 3 can only be rule 18\n",
    "field_list = []\n",
    "for field in range(20):\n",
    "    rule_ok = []\n",
    "    for rule in rules: \n",
    "        rule_ok.append(check_tickets(rule, good_tix, field))\n",
    "    field_list.append(rule_ok)\n",
    "field_list = np.array(field_list)"
   ]
  },
  {
   "cell_type": "code",
   "execution_count": 253,
   "metadata": {},
   "outputs": [],
   "source": [
    "### Now I have the field list, so just use reductive logic to figure out which fields have to be which\n",
    "rule_column = {}\n",
    "while len(rule_column)<20:\n",
    "    for column in range(len(rules)):\n",
    "        possible = [x for x in np.where(field_list[:,column,None]==1)[0] if x not in rule_column.values()]\n",
    "        if len(possible) == 1:\n",
    "            ticket_field = possible[0]\n",
    "            rule_column[rules[column]] = ticket_field"
   ]
  },
  {
   "cell_type": "code",
   "execution_count": 254,
   "metadata": {},
   "outputs": [
    {
     "data": {
      "text/plain": [
       "1053686852011"
      ]
     },
     "execution_count": 254,
     "metadata": {},
     "output_type": "execute_result"
    }
   ],
   "source": [
    "### Now check my own ticket and multiply\n",
    "my_tix_list = my_tix.split(',')\n",
    "product = 1\n",
    "\n",
    "depart = [x for x in rule_column.keys() if 'departure' in x]\n",
    "for x in depart:\n",
    "    product = product * int(my_tix_list[(rule_column.get(x))])\n",
    "product"
   ]
  }
 ],
 "metadata": {
  "kernelspec": {
   "display_name": "Python 3",
   "language": "python",
   "name": "python3"
  },
  "language_info": {
   "codemirror_mode": {
    "name": "ipython",
    "version": 3
   },
   "file_extension": ".py",
   "mimetype": "text/x-python",
   "name": "python",
   "nbconvert_exporter": "python",
   "pygments_lexer": "ipython3",
   "version": "3.7.6"
  }
 },
 "nbformat": 4,
 "nbformat_minor": 4
}
