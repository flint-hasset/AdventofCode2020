{
 "cells": [
  {
   "cell_type": "markdown",
   "metadata": {},
   "source": [
    "## Part 1\n",
    "- The handshake used by the card and the door involves an operation that transforms a subject number. To transform a subject number, start with the value 1. Then, a number of times called the loop size, perform the following steps:\n",
    "\n",
    "- Set the value to itself multiplied by the subject number.\n",
    "- Set the value to the remainder after dividing the value by 20201227.\n",
    "\n",
    "- For example, suppose you know that the card's public key is 5764801. With a little trial and error, you can work out that the card's loop size must be 8, because transforming the initial subject number of 7 with a loop size of 8 produces 5764801."
   ]
  },
  {
   "cell_type": "code",
   "execution_count": 4,
   "metadata": {},
   "outputs": [],
   "source": [
    "card = 3418282\n",
    "door = 8719412\n",
    "divisor = 20201227\n",
    "sub_num = 7"
   ]
  },
  {
   "cell_type": "code",
   "execution_count": 30,
   "metadata": {},
   "outputs": [],
   "source": [
    "def find_loop(target):\n",
    "    val = 1\n",
    "    count = 0\n",
    "    while val != target:\n",
    "        val = val*sub_num\n",
    "        val = val%divisor\n",
    "#         if val == target:\n",
    "#             break\n",
    "        count += 1\n",
    "    return count\n",
    "\n",
    "def run_loops(subj, loops):\n",
    "    val = 1\n",
    "    for x in range(loops):\n",
    "        val = val*subj\n",
    "        val = val%divisor\n",
    "    return val"
   ]
  },
  {
   "cell_type": "code",
   "execution_count": 19,
   "metadata": {},
   "outputs": [
    {
     "name": "stdout",
     "output_type": "stream",
     "text": [
      "Card 8987376 3418282\n"
     ]
    }
   ],
   "source": [
    "val = 1\n",
    "count = 1 \n",
    "while val != card:\n",
    "    val = val*sub_num\n",
    "    val = val%divisor\n",
    "    if val == door:\n",
    "        print('Door', count, val)\n",
    "        break\n",
    "    if val == card:\n",
    "        print('Card', count, val)\n",
    "        break\n",
    "    count += 1\n",
    "        \n"
   ]
  },
  {
   "cell_type": "code",
   "execution_count": 27,
   "metadata": {},
   "outputs": [],
   "source": [
    "card_loop = find_loop(card)\n",
    "door_loop = find_loop(door)\n",
    "run_loops(door,card_loop)"
   ]
  }
 ],
 "metadata": {
  "kernelspec": {
   "display_name": "Python 3",
   "language": "python",
   "name": "python3"
  },
  "language_info": {
   "codemirror_mode": {
    "name": "ipython",
    "version": 3
   },
   "file_extension": ".py",
   "mimetype": "text/x-python",
   "name": "python",
   "nbconvert_exporter": "python",
   "pygments_lexer": "ipython3",
   "version": "3.7.6"
  }
 },
 "nbformat": 4,
 "nbformat_minor": 4
}
